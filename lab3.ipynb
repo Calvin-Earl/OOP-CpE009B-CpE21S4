{
  "nbformat": 4,
  "nbformat_minor": 0,
  "metadata": {
    "colab": {
      "provenance": [],
      "authorship_tag": "ABX9TyPl6i1QKQtffvn1FUJ2DMVY",
      "include_colab_link": true
    },
    "kernelspec": {
      "name": "python3",
      "display_name": "Python 3"
    },
    "language_info": {
      "name": "python"
    }
  },
  "cells": [
    {
      "cell_type": "markdown",
      "metadata": {
        "id": "view-in-github",
        "colab_type": "text"
      },
      "source": [
        "<a href=\"https://colab.research.google.com/github/Calvin-Earl/OOP-CpE009B-CpE21S4/blob/main/lab3.ipynb\" target=\"_parent\"><img src=\"https://colab.research.google.com/assets/colab-badge.svg\" alt=\"Open In Colab\"/></a>"
      ]
    },
    {
      "cell_type": "code",
      "execution_count": 20,
      "metadata": {
        "colab": {
          "base_uri": "https://localhost:8080/"
        },
        "id": "GMkxSjZgl553",
        "outputId": "b660af1b-6261-4312-9560-4ebcd25e7e1b"
      },
      "outputs": [
        {
          "output_type": "stream",
          "name": "stdout",
          "text": [
            "//Fulltime Employee\n",
            "ID: 001, Name: John Doe, Address: Anonas, Allowance: 500, Rate: 20\n",
            "\n",
            "//Parttime Employee\n",
            "ID: 002, Name: Doe John, Address: Cubao, Rate: 15\n",
            "\n",
            "Salary: 2500, Salary ID: S001, Cut off Date: 2024-09-23, DTW: 20\n"
          ]
        }
      ],
      "source": [
        "class Employee:\n",
        "    def __init__(self, emp_id, emp_name, emp_address):\n",
        "        self.__emp_id = emp_id\n",
        "        self.__emp_name = emp_name\n",
        "        self.__emp_address = emp_address\n",
        "\n",
        "    def get_emp_id(self):\n",
        "        return self.__emp_id\n",
        "\n",
        "    def get_emp_name(self):\n",
        "        return self.__emp_name\n",
        "\n",
        "    def get_emp_address(self):\n",
        "        return self.__emp_address\n",
        "\n",
        "\n",
        "class FulltimeEmployee(Employee):\n",
        "    def __init__(self, emp_id, emp_name, emp_address, allowance, rate):\n",
        "        super().__init__(emp_id, emp_name, emp_address)\n",
        "        self.__allowance = allowance\n",
        "        self.__rate = rate\n",
        "\n",
        "    def get_allowance(self):\n",
        "        return self.__allowance\n",
        "\n",
        "    def get_rate(self):\n",
        "        return self.__rate\n",
        "\n",
        "\n",
        "class ParttimeEmployee(Employee):\n",
        "    def __init__(self, emp_id, emp_name, emp_address, rate):\n",
        "        super().__init__(emp_id, emp_name, emp_address)\n",
        "        self.__rate = rate\n",
        "\n",
        "    def get_rate(self):\n",
        "        return self.__rate\n",
        "\n",
        "\n",
        "class Salary:\n",
        "    def __init__(self, salary_id, salary, cut_off_date, days_of_work):\n",
        "        self.__salary_id = salary_id\n",
        "        self.__salary = salary\n",
        "        self.__cut_off_date = cut_off_date\n",
        "        self.__days_of_work = days_of_work\n",
        "\n",
        "    def get_salary_id(self):\n",
        "        return self.__salary_id\n",
        "\n",
        "    def get_salary(self):\n",
        "        return self.__salary\n",
        "\n",
        "    def get_cut_off_date(self):\n",
        "        return self.__cut_off_date\n",
        "\n",
        "    def get_days_of_work(self):\n",
        "        return self.__days_of_work\n",
        "\n",
        "\n",
        "fulltime_emp = FulltimeEmployee(\"001\", \"John Doe\", \"Anonas\", 500, 20)\n",
        "parttime_emp = ParttimeEmployee(\"002\", \"Doe John\", \"Cubao\", 15)\n",
        "salary = Salary(\"S001\", 2500, \"2024-09-23\", 20)\n",
        "print(\"//Fulltime Employee\")\n",
        "print(f\"ID: {fulltime_emp.get_emp_id()}, Name: {fulltime_emp.get_emp_name()}, Address: {fulltime_emp.get_emp_address()}, Allowance: {fulltime_emp.get_allowance()}, Rate: {fulltime_emp.get_rate()}\")\n",
        "print()\n",
        "print(\"//Parttime Employee\")\n",
        "print(f\"ID: {parttime_emp.get_emp_id()}, Name: {parttime_emp.get_emp_name()}, Address: {parttime_emp.get_emp_address()}, Rate: {parttime_emp.get_rate()}\")\n",
        "print()\n",
        "print(f\"Salary: {salary.get_salary()}, Salary ID: {salary.get_salary_id()}, Cut off Date: {salary.get_cut_off_date()}, DTW: {salary.get_days_of_work()}\")\n",
        "\n"
      ]
    }
  ]
}
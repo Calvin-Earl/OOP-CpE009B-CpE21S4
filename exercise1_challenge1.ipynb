{
  "nbformat": 4,
  "nbformat_minor": 0,
  "metadata": {
    "colab": {
      "provenance": [],
      "authorship_tag": "ABX9TyOvcLwMu1LQHhBB1tdLs0l3",
      "include_colab_link": true
    },
    "kernelspec": {
      "name": "python3",
      "display_name": "Python 3"
    },
    "language_info": {
      "name": "python"
    }
  },
  "cells": [
    {
      "cell_type": "markdown",
      "metadata": {
        "id": "view-in-github",
        "colab_type": "text"
      },
      "source": [
        "<a href=\"https://colab.research.google.com/github/Calvin-Earl/OOP-CpE009B-CpE21S4/blob/main/exercise1_challenge1.ipynb\" target=\"_parent\"><img src=\"https://colab.research.google.com/assets/colab-badge.svg\" alt=\"Open In Colab\"/></a>"
      ]
    },
    {
      "cell_type": "code",
      "execution_count": 12,
      "metadata": {
        "colab": {
          "base_uri": "https://localhost:8080/"
        },
        "id": "VIlQ_nJnFhfk",
        "outputId": "1ee38952-caa7-489a-e6da-1beb5531a84d"
      },
      "outputs": [
        {
          "output_type": "stream",
          "name": "stdout",
          "text": [
            "my name is Casing and with an age of 19 and birthday of September 10, 2004\n",
            "Mark\n",
            "20\n",
            "April 7, 2004\n",
            "my name is Dr. Sayo and with an age of 40 and birthday of June 24, 1983\n"
          ]
        }
      ],
      "source": [
        "class Person:\n",
        "  def __init__(self, name, age, birthday):\n",
        "    self.name = name\n",
        "    self.age = age\n",
        "    self.birthday = birthday\n",
        "\n",
        "  def person_attribute(self):\n",
        "    return f\"my name is {self.name} and with an age of {self.age} and birthday of {self.birthday}\"\n",
        "class Teacher(Person):\n",
        "    pass\n",
        "class Student(Person):\n",
        "    pass\n",
        "person = Person(\"Casing\", 19, \"September 10, 2004\")\n",
        "print(person.person_attribute())\n",
        "student = Student(\"Mark\", 20, \"April 7, 2004\")\n",
        "print(student.name)\n",
        "print(student.age)\n",
        "print(student.birthday)\n",
        "teacher = Teacher(\"Dr. Sayo\", 40, \"June 24, 1983\")\n",
        "print(teacher.person_attribute())\n",
        "\n"
      ]
    },
    {
      "cell_type": "markdown",
      "source": [
        "# Challenge 1\n",
        "1. super class named as Shapes\n",
        "2. Subclasses: Rectangle, Shape\n",
        "3. Methods: Perimeter(), Area()\n",
        "4. Object name: Rectangle, Square\n",
        "5. Inherits the attributes of super class Shapes self.side = side"
      ],
      "metadata": {
        "id": "ibhIjXNiZ1uS"
      }
    },
    {
      "cell_type": "code",
      "source": [
        "class Shapes:\n",
        "  def __init__(self, length, width, side):\n",
        "    self.length = length\n",
        "    self.width = width\n",
        "    self.side = side\n",
        "\n",
        "class Rectangle(Shapes):\n",
        "  pass\n",
        "\n",
        "  def Perimeter(self):\n",
        "    return f\"Perimeter of Rectangle: {2*self.length + 2*self.width}\"\n",
        "\n",
        "  def Area(self):\n",
        "    return f\"Area of Rectangle: {self.length * self.width}\"\n",
        "\n",
        "class Square(Shapes):\n",
        "  pass\n",
        "\n",
        "  def Perimeter(self):\n",
        "    return f\"Perimeter of Square: {4*self.side}\"\n",
        "\n",
        "  def Area(self):\n",
        "    return f\"Area of Square: {self.side ** 2}\"\n",
        "\n",
        "rectangle = Rectangle(5, 10, 0)\n",
        "print(rectangle.Perimeter())\n",
        "print(rectangle.Area())\n",
        "\n",
        "square = Square(0, 0, 5)\n",
        "print(square.Perimeter())\n",
        "print(square.Area())"
      ],
      "metadata": {
        "colab": {
          "base_uri": "https://localhost:8080/"
        },
        "id": "58eqdolyL5bS",
        "outputId": "2ad13e47-de80-49f0-ffba-003c2683634c"
      },
      "execution_count": 22,
      "outputs": [
        {
          "output_type": "stream",
          "name": "stdout",
          "text": [
            "Perimeter of Rectangle: 30\n",
            "Area of Rectangle: 50\n",
            "Perimeter of Square: 20\n",
            "Area of Square: 25\n"
          ]
        }
      ]
    }
  ]
}